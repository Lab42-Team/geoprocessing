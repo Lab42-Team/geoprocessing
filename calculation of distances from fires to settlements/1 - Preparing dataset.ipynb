{
 "cells": [
  {
   "cell_type": "code",
   "execution_count": 19,
   "metadata": {},
   "outputs": [],
   "source": [
    "import pyproj\n",
    "import shapely\n",
    "from shapely import wkb\n",
    "from shapely import wkt\n",
    "import pandas as pd\n",
    "import matplotlib.pyplot as plt"
   ]
  },
  {
   "cell_type": "markdown",
   "metadata": {
    "heading_collapsed": true
   },
   "source": [
    "## Чтение файла пожаров и добавление полигонов формата wkt"
   ]
  },
  {
   "cell_type": "code",
   "execution_count": 3,
   "metadata": {
    "hidden": true
   },
   "outputs": [],
   "source": [
    "df_fires = pd.read_csv('collecting the borders of localities/data/fires_avh_3076 (1).csv', sep = ';')"
   ]
  },
  {
   "cell_type": "code",
   "execution_count": 4,
   "metadata": {
    "hidden": true,
    "scrolled": true
   },
   "outputs": [
    {
     "data": {
      "text/html": [
       "<div>\n",
       "<style scoped>\n",
       "    .dataframe tbody tr th:only-of-type {\n",
       "        vertical-align: middle;\n",
       "    }\n",
       "\n",
       "    .dataframe tbody tr th {\n",
       "        vertical-align: top;\n",
       "    }\n",
       "\n",
       "    .dataframe thead th {\n",
       "        text-align: right;\n",
       "    }\n",
       "</style>\n",
       "<table border=\"1\" class=\"dataframe\">\n",
       "  <thead>\n",
       "    <tr style=\"text-align: right;\">\n",
       "      <th></th>\n",
       "      <th>fire_id</th>\n",
       "      <th>dt</th>\n",
       "      <th>lat</th>\n",
       "      <th>lon</th>\n",
       "      <th>area</th>\n",
       "      <th>terr_id</th>\n",
       "      <th>since</th>\n",
       "      <th>id</th>\n",
       "      <th>is_deleted</th>\n",
       "      <th>classname</th>\n",
       "      <th>created_by</th>\n",
       "      <th>edited_by</th>\n",
       "      <th>edited_on</th>\n",
       "      <th>created_on</th>\n",
       "      <th>published</th>\n",
       "      <th>poly</th>\n",
       "    </tr>\n",
       "  </thead>\n",
       "  <tbody>\n",
       "    <tr>\n",
       "      <th>0</th>\n",
       "      <td>1</td>\n",
       "      <td>2017-04-01 08:01:32</td>\n",
       "      <td>53.2895</td>\n",
       "      <td>100.8370</td>\n",
       "      <td>2.5</td>\n",
       "      <td>NaN</td>\n",
       "      <td>2017-04-13 14:53:24</td>\n",
       "      <td>48</td>\n",
       "      <td>f</td>\n",
       "      <td>NaN</td>\n",
       "      <td>NaN</td>\n",
       "      <td>NaN</td>\n",
       "      <td>2021-03-04 19:10:25.861394</td>\n",
       "      <td>NaN</td>\n",
       "      <td>f</td>\n",
       "      <td>0106000020E61000000100000001030000000100000007...</td>\n",
       "    </tr>\n",
       "    <tr>\n",
       "      <th>1</th>\n",
       "      <td>2</td>\n",
       "      <td>2017-04-01 08:01:02</td>\n",
       "      <td>51.6256</td>\n",
       "      <td>102.2300</td>\n",
       "      <td>2.6</td>\n",
       "      <td>NaN</td>\n",
       "      <td>2017-04-13 14:53:24</td>\n",
       "      <td>49</td>\n",
       "      <td>f</td>\n",
       "      <td>NaN</td>\n",
       "      <td>NaN</td>\n",
       "      <td>NaN</td>\n",
       "      <td>2021-03-04 19:10:25.861394</td>\n",
       "      <td>NaN</td>\n",
       "      <td>f</td>\n",
       "      <td>0106000020E61000000100000001030000000100000007...</td>\n",
       "    </tr>\n",
       "    <tr>\n",
       "      <th>2</th>\n",
       "      <td>3</td>\n",
       "      <td>2017-04-01 08:01:03</td>\n",
       "      <td>51.7021</td>\n",
       "      <td>102.4920</td>\n",
       "      <td>4.0</td>\n",
       "      <td>NaN</td>\n",
       "      <td>2017-04-13 14:53:24</td>\n",
       "      <td>50</td>\n",
       "      <td>f</td>\n",
       "      <td>NaN</td>\n",
       "      <td>NaN</td>\n",
       "      <td>NaN</td>\n",
       "      <td>2021-03-04 19:10:25.861394</td>\n",
       "      <td>NaN</td>\n",
       "      <td>f</td>\n",
       "      <td>0106000020E6100000010000000103000000010000000A...</td>\n",
       "    </tr>\n",
       "    <tr>\n",
       "      <th>3</th>\n",
       "      <td>4</td>\n",
       "      <td>2017-04-01 08:01:14</td>\n",
       "      <td>52.4530</td>\n",
       "      <td>103.4880</td>\n",
       "      <td>1.5</td>\n",
       "      <td>NaN</td>\n",
       "      <td>2017-04-13 14:53:24</td>\n",
       "      <td>51</td>\n",
       "      <td>f</td>\n",
       "      <td>NaN</td>\n",
       "      <td>NaN</td>\n",
       "      <td>NaN</td>\n",
       "      <td>2021-03-04 19:10:25.861394</td>\n",
       "      <td>NaN</td>\n",
       "      <td>f</td>\n",
       "      <td>0106000020E61000000100000001030000000100000005...</td>\n",
       "    </tr>\n",
       "    <tr>\n",
       "      <th>4</th>\n",
       "      <td>5</td>\n",
       "      <td>2017-04-01 08:01:21</td>\n",
       "      <td>52.5200</td>\n",
       "      <td>99.9813</td>\n",
       "      <td>1.2</td>\n",
       "      <td>NaN</td>\n",
       "      <td>2017-04-13 14:53:24</td>\n",
       "      <td>52</td>\n",
       "      <td>f</td>\n",
       "      <td>NaN</td>\n",
       "      <td>NaN</td>\n",
       "      <td>NaN</td>\n",
       "      <td>2021-03-04 19:10:25.861394</td>\n",
       "      <td>NaN</td>\n",
       "      <td>f</td>\n",
       "      <td>0106000020E61000000100000001030000000100000005...</td>\n",
       "    </tr>\n",
       "  </tbody>\n",
       "</table>\n",
       "</div>"
      ],
      "text/plain": [
       "   fire_id                   dt      lat       lon  area  terr_id  \\\n",
       "0        1  2017-04-01 08:01:32  53.2895  100.8370   2.5      NaN   \n",
       "1        2  2017-04-01 08:01:02  51.6256  102.2300   2.6      NaN   \n",
       "2        3  2017-04-01 08:01:03  51.7021  102.4920   4.0      NaN   \n",
       "3        4  2017-04-01 08:01:14  52.4530  103.4880   1.5      NaN   \n",
       "4        5  2017-04-01 08:01:21  52.5200   99.9813   1.2      NaN   \n",
       "\n",
       "                 since  id is_deleted  classname  created_by  edited_by  \\\n",
       "0  2017-04-13 14:53:24  48          f        NaN         NaN        NaN   \n",
       "1  2017-04-13 14:53:24  49          f        NaN         NaN        NaN   \n",
       "2  2017-04-13 14:53:24  50          f        NaN         NaN        NaN   \n",
       "3  2017-04-13 14:53:24  51          f        NaN         NaN        NaN   \n",
       "4  2017-04-13 14:53:24  52          f        NaN         NaN        NaN   \n",
       "\n",
       "                    edited_on  created_on published  \\\n",
       "0  2021-03-04 19:10:25.861394         NaN         f   \n",
       "1  2021-03-04 19:10:25.861394         NaN         f   \n",
       "2  2021-03-04 19:10:25.861394         NaN         f   \n",
       "3  2021-03-04 19:10:25.861394         NaN         f   \n",
       "4  2021-03-04 19:10:25.861394         NaN         f   \n",
       "\n",
       "                                                poly  \n",
       "0  0106000020E61000000100000001030000000100000007...  \n",
       "1  0106000020E61000000100000001030000000100000007...  \n",
       "2  0106000020E6100000010000000103000000010000000A...  \n",
       "3  0106000020E61000000100000001030000000100000005...  \n",
       "4  0106000020E61000000100000001030000000100000005...  "
      ]
     },
     "execution_count": 4,
     "metadata": {},
     "output_type": "execute_result"
    }
   ],
   "source": [
    "df_fires.head()"
   ]
  },
  {
   "cell_type": "code",
   "execution_count": 7,
   "metadata": {
    "hidden": true
   },
   "outputs": [],
   "source": [
    "df_fires['poly_wkt'] = df_fires.poly.apply(lambda x: wkb.loads(x, hex=True))"
   ]
  },
  {
   "cell_type": "code",
   "execution_count": 8,
   "metadata": {
    "hidden": true
   },
   "outputs": [
    {
     "data": {
      "text/html": [
       "<div>\n",
       "<style scoped>\n",
       "    .dataframe tbody tr th:only-of-type {\n",
       "        vertical-align: middle;\n",
       "    }\n",
       "\n",
       "    .dataframe tbody tr th {\n",
       "        vertical-align: top;\n",
       "    }\n",
       "\n",
       "    .dataframe thead th {\n",
       "        text-align: right;\n",
       "    }\n",
       "</style>\n",
       "<table border=\"1\" class=\"dataframe\">\n",
       "  <thead>\n",
       "    <tr style=\"text-align: right;\">\n",
       "      <th></th>\n",
       "      <th>fire_id</th>\n",
       "      <th>dt</th>\n",
       "      <th>lat</th>\n",
       "      <th>lon</th>\n",
       "      <th>area</th>\n",
       "      <th>terr_id</th>\n",
       "      <th>since</th>\n",
       "      <th>id</th>\n",
       "      <th>is_deleted</th>\n",
       "      <th>classname</th>\n",
       "      <th>created_by</th>\n",
       "      <th>edited_by</th>\n",
       "      <th>edited_on</th>\n",
       "      <th>created_on</th>\n",
       "      <th>published</th>\n",
       "      <th>poly</th>\n",
       "      <th>poly_wkt</th>\n",
       "    </tr>\n",
       "  </thead>\n",
       "  <tbody>\n",
       "    <tr>\n",
       "      <th>0</th>\n",
       "      <td>1</td>\n",
       "      <td>2017-04-01 08:01:32</td>\n",
       "      <td>53.2895</td>\n",
       "      <td>100.8370</td>\n",
       "      <td>2.5</td>\n",
       "      <td>NaN</td>\n",
       "      <td>2017-04-13 14:53:24</td>\n",
       "      <td>48</td>\n",
       "      <td>f</td>\n",
       "      <td>NaN</td>\n",
       "      <td>NaN</td>\n",
       "      <td>NaN</td>\n",
       "      <td>2021-03-04 19:10:25.861394</td>\n",
       "      <td>NaN</td>\n",
       "      <td>f</td>\n",
       "      <td>0106000020E61000000100000001030000000100000007...</td>\n",
       "      <td>(POLYGON ((100.823028560002 53.28303528, 100.8...</td>\n",
       "    </tr>\n",
       "    <tr>\n",
       "      <th>1</th>\n",
       "      <td>2</td>\n",
       "      <td>2017-04-01 08:01:02</td>\n",
       "      <td>51.6256</td>\n",
       "      <td>102.2300</td>\n",
       "      <td>2.6</td>\n",
       "      <td>NaN</td>\n",
       "      <td>2017-04-13 14:53:24</td>\n",
       "      <td>49</td>\n",
       "      <td>f</td>\n",
       "      <td>NaN</td>\n",
       "      <td>NaN</td>\n",
       "      <td>NaN</td>\n",
       "      <td>2021-03-04 19:10:25.861394</td>\n",
       "      <td>NaN</td>\n",
       "      <td>f</td>\n",
       "      <td>0106000020E61000000100000001030000000100000007...</td>\n",
       "      <td>(POLYGON ((102.21560669 51.61920166, 102.21236...</td>\n",
       "    </tr>\n",
       "    <tr>\n",
       "      <th>2</th>\n",
       "      <td>3</td>\n",
       "      <td>2017-04-01 08:01:03</td>\n",
       "      <td>51.7021</td>\n",
       "      <td>102.4920</td>\n",
       "      <td>4.0</td>\n",
       "      <td>NaN</td>\n",
       "      <td>2017-04-13 14:53:24</td>\n",
       "      <td>50</td>\n",
       "      <td>f</td>\n",
       "      <td>NaN</td>\n",
       "      <td>NaN</td>\n",
       "      <td>NaN</td>\n",
       "      <td>2021-03-04 19:10:25.861394</td>\n",
       "      <td>NaN</td>\n",
       "      <td>f</td>\n",
       "      <td>0106000020E6100000010000000103000000010000000A...</td>\n",
       "      <td>(POLYGON ((102.469810489998 51.69487, 102.4666...</td>\n",
       "    </tr>\n",
       "    <tr>\n",
       "      <th>3</th>\n",
       "      <td>4</td>\n",
       "      <td>2017-04-01 08:01:14</td>\n",
       "      <td>52.4530</td>\n",
       "      <td>103.4880</td>\n",
       "      <td>1.5</td>\n",
       "      <td>NaN</td>\n",
       "      <td>2017-04-13 14:53:24</td>\n",
       "      <td>51</td>\n",
       "      <td>f</td>\n",
       "      <td>NaN</td>\n",
       "      <td>NaN</td>\n",
       "      <td>NaN</td>\n",
       "      <td>2021-03-04 19:10:25.861394</td>\n",
       "      <td>NaN</td>\n",
       "      <td>f</td>\n",
       "      <td>0106000020E61000000100000001030000000100000005...</td>\n",
       "      <td>(POLYGON ((103.48075104 52.44736481, 103.47776...</td>\n",
       "    </tr>\n",
       "    <tr>\n",
       "      <th>4</th>\n",
       "      <td>5</td>\n",
       "      <td>2017-04-01 08:01:21</td>\n",
       "      <td>52.5200</td>\n",
       "      <td>99.9813</td>\n",
       "      <td>1.2</td>\n",
       "      <td>NaN</td>\n",
       "      <td>2017-04-13 14:53:24</td>\n",
       "      <td>52</td>\n",
       "      <td>f</td>\n",
       "      <td>NaN</td>\n",
       "      <td>NaN</td>\n",
       "      <td>NaN</td>\n",
       "      <td>2021-03-04 19:10:25.861394</td>\n",
       "      <td>NaN</td>\n",
       "      <td>f</td>\n",
       "      <td>0106000020E61000000100000001030000000100000005...</td>\n",
       "      <td>(POLYGON ((99.97621155 52.5144043, 99.97245789...</td>\n",
       "    </tr>\n",
       "  </tbody>\n",
       "</table>\n",
       "</div>"
      ],
      "text/plain": [
       "   fire_id                   dt      lat       lon  area  terr_id  \\\n",
       "0        1  2017-04-01 08:01:32  53.2895  100.8370   2.5      NaN   \n",
       "1        2  2017-04-01 08:01:02  51.6256  102.2300   2.6      NaN   \n",
       "2        3  2017-04-01 08:01:03  51.7021  102.4920   4.0      NaN   \n",
       "3        4  2017-04-01 08:01:14  52.4530  103.4880   1.5      NaN   \n",
       "4        5  2017-04-01 08:01:21  52.5200   99.9813   1.2      NaN   \n",
       "\n",
       "                 since  id is_deleted  classname  created_by  edited_by  \\\n",
       "0  2017-04-13 14:53:24  48          f        NaN         NaN        NaN   \n",
       "1  2017-04-13 14:53:24  49          f        NaN         NaN        NaN   \n",
       "2  2017-04-13 14:53:24  50          f        NaN         NaN        NaN   \n",
       "3  2017-04-13 14:53:24  51          f        NaN         NaN        NaN   \n",
       "4  2017-04-13 14:53:24  52          f        NaN         NaN        NaN   \n",
       "\n",
       "                    edited_on  created_on published  \\\n",
       "0  2021-03-04 19:10:25.861394         NaN         f   \n",
       "1  2021-03-04 19:10:25.861394         NaN         f   \n",
       "2  2021-03-04 19:10:25.861394         NaN         f   \n",
       "3  2021-03-04 19:10:25.861394         NaN         f   \n",
       "4  2021-03-04 19:10:25.861394         NaN         f   \n",
       "\n",
       "                                                poly  \\\n",
       "0  0106000020E61000000100000001030000000100000007...   \n",
       "1  0106000020E61000000100000001030000000100000007...   \n",
       "2  0106000020E6100000010000000103000000010000000A...   \n",
       "3  0106000020E61000000100000001030000000100000005...   \n",
       "4  0106000020E61000000100000001030000000100000005...   \n",
       "\n",
       "                                            poly_wkt  \n",
       "0  (POLYGON ((100.823028560002 53.28303528, 100.8...  \n",
       "1  (POLYGON ((102.21560669 51.61920166, 102.21236...  \n",
       "2  (POLYGON ((102.469810489998 51.69487, 102.4666...  \n",
       "3  (POLYGON ((103.48075104 52.44736481, 103.47776...  \n",
       "4  (POLYGON ((99.97621155 52.5144043, 99.97245789...  "
      ]
     },
     "execution_count": 8,
     "metadata": {},
     "output_type": "execute_result"
    }
   ],
   "source": [
    "df_fires.head()"
   ]
  },
  {
   "cell_type": "code",
   "execution_count": 23,
   "metadata": {
    "hidden": true
   },
   "outputs": [
    {
     "data": {
      "text/html": [
       "<div>\n",
       "<style scoped>\n",
       "    .dataframe tbody tr th:only-of-type {\n",
       "        vertical-align: middle;\n",
       "    }\n",
       "\n",
       "    .dataframe tbody tr th {\n",
       "        vertical-align: top;\n",
       "    }\n",
       "\n",
       "    .dataframe thead th {\n",
       "        text-align: right;\n",
       "    }\n",
       "</style>\n",
       "<table border=\"1\" class=\"dataframe\">\n",
       "  <thead>\n",
       "    <tr style=\"text-align: right;\">\n",
       "      <th></th>\n",
       "      <th>fire_id</th>\n",
       "      <th>dt</th>\n",
       "      <th>lat</th>\n",
       "      <th>lon</th>\n",
       "      <th>area</th>\n",
       "      <th>terr_id</th>\n",
       "      <th>since</th>\n",
       "      <th>id</th>\n",
       "      <th>is_deleted</th>\n",
       "      <th>classname</th>\n",
       "      <th>created_by</th>\n",
       "      <th>edited_by</th>\n",
       "      <th>edited_on</th>\n",
       "      <th>created_on</th>\n",
       "      <th>published</th>\n",
       "      <th>poly</th>\n",
       "      <th>poly_wkt</th>\n",
       "    </tr>\n",
       "  </thead>\n",
       "  <tbody>\n",
       "  </tbody>\n",
       "</table>\n",
       "</div>"
      ],
      "text/plain": [
       "Empty DataFrame\n",
       "Columns: [fire_id, dt, lat, lon, area, terr_id, since, id, is_deleted, classname, created_by, edited_by, edited_on, created_on, published, poly, poly_wkt]\n",
       "Index: []"
      ]
     },
     "execution_count": 23,
     "metadata": {},
     "output_type": "execute_result"
    }
   ],
   "source": [
    "df_fires.loc[~df_fires.terr_id.isna()]"
   ]
  },
  {
   "cell_type": "code",
   "execution_count": 29,
   "metadata": {
    "hidden": true
   },
   "outputs": [],
   "source": [
    "df_fires.to_csv('data/fires.csv', index = False)"
   ]
  },
  {
   "cell_type": "markdown",
   "metadata": {
    "heading_collapsed": true
   },
   "source": [
    "## Чтение файла пожаров"
   ]
  },
  {
   "cell_type": "markdown",
   "metadata": {
    "hidden": true
   },
   "source": [
    "Пожары"
   ]
  },
  {
   "cell_type": "code",
   "execution_count": 30,
   "metadata": {
    "hidden": true
   },
   "outputs": [
    {
     "name": "stderr",
     "output_type": "stream",
     "text": [
      "C:\\Users\\yupes\\anaconda3\\lib\\site-packages\\IPython\\core\\interactiveshell.py:3343: DtypeWarning: Columns (19) have mixed types.Specify dtype option on import or set low_memory=False.\n",
      "  exec(code_obj, self.user_global_ns, self.user_ns)\n"
     ]
    },
    {
     "data": {
      "text/plain": [
       "(40682, 23)"
      ]
     },
     "execution_count": 30,
     "metadata": {},
     "output_type": "execute_result"
    }
   ],
   "source": [
    "df_fires = pd.read_csv('data/fires_distance.csv')\n",
    "df_fires.shape"
   ]
  },
  {
   "cell_type": "code",
   "execution_count": 31,
   "metadata": {
    "hidden": true
   },
   "outputs": [
    {
     "data": {
      "text/html": [
       "<div>\n",
       "<style scoped>\n",
       "    .dataframe tbody tr th:only-of-type {\n",
       "        vertical-align: middle;\n",
       "    }\n",
       "\n",
       "    .dataframe tbody tr th {\n",
       "        vertical-align: top;\n",
       "    }\n",
       "\n",
       "    .dataframe thead th {\n",
       "        text-align: right;\n",
       "    }\n",
       "</style>\n",
       "<table border=\"1\" class=\"dataframe\">\n",
       "  <thead>\n",
       "    <tr style=\"text-align: right;\">\n",
       "      <th></th>\n",
       "      <th>fid</th>\n",
       "      <th>fire_id</th>\n",
       "      <th>dt</th>\n",
       "      <th>lat</th>\n",
       "      <th>lon</th>\n",
       "      <th>area</th>\n",
       "      <th>terr_id</th>\n",
       "      <th>since</th>\n",
       "      <th>id</th>\n",
       "      <th>is_deleted</th>\n",
       "      <th>...</th>\n",
       "      <th>edited_on</th>\n",
       "      <th>created_on</th>\n",
       "      <th>published</th>\n",
       "      <th>poly</th>\n",
       "      <th>ado</th>\n",
       "      <th>local_id</th>\n",
       "      <th>locality_name</th>\n",
       "      <th>locality_id</th>\n",
       "      <th>HubName</th>\n",
       "      <th>HubDist</th>\n",
       "    </tr>\n",
       "  </thead>\n",
       "  <tbody>\n",
       "    <tr>\n",
       "      <th>0</th>\n",
       "      <td>1</td>\n",
       "      <td>13073</td>\n",
       "      <td>2019/04/27 12:13:30</td>\n",
       "      <td>53.4228</td>\n",
       "      <td>103.092</td>\n",
       "      <td>3.1</td>\n",
       "      <td>NaN</td>\n",
       "      <td>2019/04/27 23:01:34</td>\n",
       "      <td>29662</td>\n",
       "      <td>f</td>\n",
       "      <td>...</td>\n",
       "      <td>2021/03/04 19:10:25</td>\n",
       "      <td>NaN</td>\n",
       "      <td>f</td>\n",
       "      <td>0106000020E61000000100000001030000000100000007...</td>\n",
       "      <td>Аларский</td>\n",
       "      <td>1.0</td>\n",
       "      <td>Аргалей</td>\n",
       "      <td>1.80</td>\n",
       "      <td>1.80</td>\n",
       "      <td>0.604820</td>\n",
       "    </tr>\n",
       "    <tr>\n",
       "      <th>1</th>\n",
       "      <td>2</td>\n",
       "      <td>2068</td>\n",
       "      <td>2017/04/28 06:13:22</td>\n",
       "      <td>53.3045</td>\n",
       "      <td>102.421</td>\n",
       "      <td>3.7</td>\n",
       "      <td>NaN</td>\n",
       "      <td>2017/04/28 16:31:26</td>\n",
       "      <td>3932</td>\n",
       "      <td>f</td>\n",
       "      <td>...</td>\n",
       "      <td>2021/03/04 19:10:25</td>\n",
       "      <td>NaN</td>\n",
       "      <td>f</td>\n",
       "      <td>0106000020E61000000100000001030000000100000005...</td>\n",
       "      <td>Аларский</td>\n",
       "      <td>1.0</td>\n",
       "      <td>Вершина</td>\n",
       "      <td>1.17</td>\n",
       "      <td>1.17</td>\n",
       "      <td>0.585057</td>\n",
       "    </tr>\n",
       "    <tr>\n",
       "      <th>2</th>\n",
       "      <td>3</td>\n",
       "      <td>946</td>\n",
       "      <td>2017/04/19 11:27:17</td>\n",
       "      <td>53.4304</td>\n",
       "      <td>102.684</td>\n",
       "      <td>2.2</td>\n",
       "      <td>NaN</td>\n",
       "      <td>2017/04/20 09:00:51</td>\n",
       "      <td>1551</td>\n",
       "      <td>f</td>\n",
       "      <td>...</td>\n",
       "      <td>2021/03/04 19:10:25</td>\n",
       "      <td>NaN</td>\n",
       "      <td>f</td>\n",
       "      <td>0106000020E61000000100000001030000000100000007...</td>\n",
       "      <td>Аларский</td>\n",
       "      <td>1.0</td>\n",
       "      <td>Головинское</td>\n",
       "      <td>1.19</td>\n",
       "      <td>1.19</td>\n",
       "      <td>1.122262</td>\n",
       "    </tr>\n",
       "    <tr>\n",
       "      <th>3</th>\n",
       "      <td>4</td>\n",
       "      <td>1307</td>\n",
       "      <td>2017/04/24 10:29:04</td>\n",
       "      <td>53.2938</td>\n",
       "      <td>103.034</td>\n",
       "      <td>1.6</td>\n",
       "      <td>NaN</td>\n",
       "      <td>2017/04/25 12:35:08</td>\n",
       "      <td>2200</td>\n",
       "      <td>f</td>\n",
       "      <td>...</td>\n",
       "      <td>2021/03/04 19:10:25</td>\n",
       "      <td>NaN</td>\n",
       "      <td>f</td>\n",
       "      <td>0106000020E61000000100000001030000000100000005...</td>\n",
       "      <td>Аларский</td>\n",
       "      <td>1.0</td>\n",
       "      <td>Егоровская</td>\n",
       "      <td>1.22</td>\n",
       "      <td>1.22</td>\n",
       "      <td>1.567302</td>\n",
       "    </tr>\n",
       "    <tr>\n",
       "      <th>4</th>\n",
       "      <td>5</td>\n",
       "      <td>1880</td>\n",
       "      <td>2017/04/27 11:34:55</td>\n",
       "      <td>53.2724</td>\n",
       "      <td>102.835</td>\n",
       "      <td>1.2</td>\n",
       "      <td>NaN</td>\n",
       "      <td>2017/04/28 08:25:00</td>\n",
       "      <td>3417</td>\n",
       "      <td>f</td>\n",
       "      <td>...</td>\n",
       "      <td>2021/03/04 19:10:25</td>\n",
       "      <td>NaN</td>\n",
       "      <td>f</td>\n",
       "      <td>0106000020E61000000100000001030000000100000005...</td>\n",
       "      <td>Аларский</td>\n",
       "      <td>1.0</td>\n",
       "      <td>Забитуй</td>\n",
       "      <td>1.24</td>\n",
       "      <td>1.24</td>\n",
       "      <td>0.546150</td>\n",
       "    </tr>\n",
       "  </tbody>\n",
       "</table>\n",
       "<p>5 rows × 23 columns</p>\n",
       "</div>"
      ],
      "text/plain": [
       "   fid  fire_id                   dt      lat      lon  area  terr_id  \\\n",
       "0    1    13073  2019/04/27 12:13:30  53.4228  103.092   3.1      NaN   \n",
       "1    2     2068  2017/04/28 06:13:22  53.3045  102.421   3.7      NaN   \n",
       "2    3      946  2017/04/19 11:27:17  53.4304  102.684   2.2      NaN   \n",
       "3    4     1307  2017/04/24 10:29:04  53.2938  103.034   1.6      NaN   \n",
       "4    5     1880  2017/04/27 11:34:55  53.2724  102.835   1.2      NaN   \n",
       "\n",
       "                 since     id is_deleted  ...            edited_on  \\\n",
       "0  2019/04/27 23:01:34  29662          f  ...  2021/03/04 19:10:25   \n",
       "1  2017/04/28 16:31:26   3932          f  ...  2021/03/04 19:10:25   \n",
       "2  2017/04/20 09:00:51   1551          f  ...  2021/03/04 19:10:25   \n",
       "3  2017/04/25 12:35:08   2200          f  ...  2021/03/04 19:10:25   \n",
       "4  2017/04/28 08:25:00   3417          f  ...  2021/03/04 19:10:25   \n",
       "\n",
       "   created_on  published                                               poly  \\\n",
       "0         NaN          f  0106000020E61000000100000001030000000100000007...   \n",
       "1         NaN          f  0106000020E61000000100000001030000000100000005...   \n",
       "2         NaN          f  0106000020E61000000100000001030000000100000007...   \n",
       "3         NaN          f  0106000020E61000000100000001030000000100000005...   \n",
       "4         NaN          f  0106000020E61000000100000001030000000100000005...   \n",
       "\n",
       "        ado local_id locality_name locality_id  HubName   HubDist  \n",
       "0  Аларский      1.0       Аргалей        1.80     1.80  0.604820  \n",
       "1  Аларский      1.0       Вершина        1.17     1.17  0.585057  \n",
       "2  Аларский      1.0   Головинское        1.19     1.19  1.122262  \n",
       "3  Аларский      1.0    Егоровская        1.22     1.22  1.567302  \n",
       "4  Аларский      1.0       Забитуй        1.24     1.24  0.546150  \n",
       "\n",
       "[5 rows x 23 columns]"
      ]
     },
     "execution_count": 31,
     "metadata": {},
     "output_type": "execute_result"
    }
   ],
   "source": [
    "df_fires.head()"
   ]
  },
  {
   "cell_type": "markdown",
   "metadata": {
    "heading_collapsed": true
   },
   "source": [
    "# Создание датасета с некорректными полигонами пожаров:"
   ]
  },
  {
   "cell_type": "code",
   "execution_count": 42,
   "metadata": {
    "hidden": true
   },
   "outputs": [],
   "source": [
    "df_fires_old = pd.read_csv('data/fires.csv')"
   ]
  },
  {
   "cell_type": "code",
   "execution_count": 45,
   "metadata": {
    "hidden": true
   },
   "outputs": [],
   "source": [
    "df_fires_old.loc[~df_fires_old.id.isin(df_fires.id)].to_csv('fires_multipolygons.csv', index = False)"
   ]
  },
  {
   "cell_type": "code",
   "execution_count": 59,
   "metadata": {
    "hidden": true
   },
   "outputs": [
    {
     "data": {
      "text/plain": [
       "(45449, 17)"
      ]
     },
     "execution_count": 59,
     "metadata": {},
     "output_type": "execute_result"
    }
   ],
   "source": [
    "df_fires_old.shape"
   ]
  },
  {
   "cell_type": "markdown",
   "metadata": {
    "heading_collapsed": true
   },
   "source": [
    "# Добавление подсчитанных мультиполигонов к основному"
   ]
  },
  {
   "cell_type": "code",
   "execution_count": 46,
   "metadata": {
    "hidden": true
   },
   "outputs": [],
   "source": [
    "df_fires_mp = pd.read_csv('data/fires_distance_mp.csv')"
   ]
  },
  {
   "cell_type": "code",
   "execution_count": 48,
   "metadata": {
    "hidden": true
   },
   "outputs": [
    {
     "data": {
      "text/plain": [
       "(Index(['fid', 'fire_id', 'dt', 'lat', 'lon', 'area', 'terr_id', 'since', 'id',\n",
       "        'is_deleted', 'classname', 'created_by', 'edited_by', 'edited_on',\n",
       "        'created_on', 'published', 'poly', 'ado', 'local_id', 'locality_name',\n",
       "        'locality_id', 'HubName', 'HubDist'],\n",
       "       dtype='object'),\n",
       " Index(['fire_id', 'dt', 'lat', 'lon', 'area', 'terr_id', 'since', 'id',\n",
       "        'is_deleted', 'classname', 'created_by', 'edited_by', 'edited_on',\n",
       "        'created_on', 'published', 'poly', 'ado', 'local_id', 'locality_id',\n",
       "        'locality_name', 'HubName', 'HubDist'],\n",
       "       dtype='object'))"
      ]
     },
     "execution_count": 48,
     "metadata": {},
     "output_type": "execute_result"
    }
   ],
   "source": [
    "df_fires.columns,df_fires_mp.columns"
   ]
  },
  {
   "cell_type": "code",
   "execution_count": 49,
   "metadata": {
    "hidden": true
   },
   "outputs": [],
   "source": [
    "df_fires.drop(columns = 'fid', inplace = True)"
   ]
  },
  {
   "cell_type": "code",
   "execution_count": 51,
   "metadata": {
    "hidden": true
   },
   "outputs": [
    {
     "data": {
      "text/plain": [
       "set()"
      ]
     },
     "execution_count": 51,
     "metadata": {},
     "output_type": "execute_result"
    }
   ],
   "source": [
    "set(df_fires.columns) - set(df_fires_mp.columns)"
   ]
  },
  {
   "cell_type": "code",
   "execution_count": 64,
   "metadata": {
    "hidden": true
   },
   "outputs": [
    {
     "data": {
      "text/plain": [
       "id     HubDist   \n",
       "4806   7.833890      4\n",
       "19463  4.804861      4\n",
       "3704   7.833890      4\n",
       "1981   8.562388      4\n",
       "5096   7.833890      4\n",
       "                    ..\n",
       "15228  188.016447    1\n",
       "15229  150.627269    1\n",
       "15230  192.266745    1\n",
       "15231  191.998859    1\n",
       "45496  507.613118    1\n",
       "Length: 45449, dtype: int64"
      ]
     },
     "execution_count": 64,
     "metadata": {},
     "output_type": "execute_result"
    }
   ],
   "source": [
    "pd.concat([df_fires, df_fires_mp])[['id', 'HubDist']].value_counts()"
   ]
  },
  {
   "cell_type": "markdown",
   "metadata": {
    "hidden": true
   },
   "source": [
    "Количество записей датасета увеличилось засчет того, что какие-то пожары пересекают одновременно несколько населенных пунктов, однако ближайшее растояние к таким записям посчиталось однозначно до одного населенного пункта."
   ]
  },
  {
   "cell_type": "code",
   "execution_count": 65,
   "metadata": {
    "hidden": true
   },
   "outputs": [],
   "source": [
    "df_fires = pd.concat([df_fires, df_fires_mp])"
   ]
  },
  {
   "cell_type": "code",
   "execution_count": 69,
   "metadata": {
    "hidden": true
   },
   "outputs": [],
   "source": [
    "df_fires.drop(columns = 'terr_id').rename(columns = {'HubName':'nearest_loc_name', 'HubDist':'distance_loc', 'local_id':'ado_id'}, inplace = True)"
   ]
  },
  {
   "cell_type": "code",
   "execution_count": 71,
   "metadata": {
    "hidden": true
   },
   "outputs": [],
   "source": [
    "df_fires['in_locality'] = 0\n",
    "df_fires.loc[df_fires.locality_id.isna(), 'in_locality'] = 1"
   ]
  },
  {
   "cell_type": "code",
   "execution_count": 73,
   "metadata": {
    "hidden": true
   },
   "outputs": [],
   "source": [
    "df_fires['poly_wkt'] = df_fires.poly.apply(lambda x: wkb.loads(x, hex=True))"
   ]
  },
  {
   "cell_type": "code",
   "execution_count": 74,
   "metadata": {
    "hidden": true
   },
   "outputs": [],
   "source": [
    "df_fires.to_csv('data/fires.csv', index = False)"
   ]
  },
  {
   "cell_type": "markdown",
   "metadata": {},
   "source": [
    "# Статистика"
   ]
  },
  {
   "cell_type": "code",
   "execution_count": 4,
   "metadata": {},
   "outputs": [],
   "source": [
    "df_fires = pd.read_csv('data/fires.csv')"
   ]
  },
  {
   "cell_type": "markdown",
   "metadata": {},
   "source": [
    "Количество пожаров в Иркутской области"
   ]
  },
  {
   "cell_type": "code",
   "execution_count": 5,
   "metadata": {},
   "outputs": [
    {
     "data": {
      "text/plain": [
       "23045"
      ]
     },
     "execution_count": 5,
     "metadata": {},
     "output_type": "execute_result"
    }
   ],
   "source": [
    "df_fires.loc[~df_fires.ado.isna()].shape[0]"
   ]
  },
  {
   "cell_type": "markdown",
   "metadata": {},
   "source": [
    "Количество пожаров в населенных пунктах"
   ]
  },
  {
   "cell_type": "code",
   "execution_count": 6,
   "metadata": {},
   "outputs": [
    {
     "data": {
      "text/plain": [
       "Усть-Кут        111\n",
       "Ангарск          85\n",
       "Усть-Када        40\n",
       "Ока 2-я          38\n",
       "Куйтун           37\n",
       "               ... \n",
       "Сосновый Бор      1\n",
       "Николаевка        1\n",
       "Парфеновка        1\n",
       "Новолисиха        1\n",
       "Аргалей           1\n",
       "Name: locality_name, Length: 312, dtype: int64"
      ]
     },
     "execution_count": 6,
     "metadata": {},
     "output_type": "execute_result"
    }
   ],
   "source": [
    "df_fires.locality_name.value_counts()"
   ]
  },
  {
   "cell_type": "code",
   "execution_count": 20,
   "metadata": {},
   "outputs": [
    {
     "data": {
      "image/png": "[encoded data removed]",
      "text/plain": [
       "<Figure size 1152x504 with 1 Axes>"
      ]
     },
     "metadata": {
      "needs_background": "light"
     },
     "output_type": "display_data"
    }
   ],
   "source": [
    "plt.figure(figsize = (16, 7))\n",
    "plt.title('Топ-30 населенных пунктов по количеству пожаров')\n",
    "plt.bar(df_fires.locality_name.value_counts()[:30].keys(),df_fires.locality_name.value_counts()[:30].values)\n",
    "plt.gcf().autofmt_xdate()"
   ]
  },
  {
   "cell_type": "code",
   "execution_count": 76,
   "metadata": {},
   "outputs": [
    {
     "data": {
      "text/plain": [
       "1514"
      ]
     },
     "execution_count": 76,
     "metadata": {},
     "output_type": "execute_result"
    }
   ],
   "source": [
    "df_fires.locality_name.value_counts().sum()"
   ]
  },
  {
   "cell_type": "code",
   "execution_count": 43,
   "metadata": {},
   "outputs": [
    {
     "data": {
      "text/plain": [
       "locality_name  fire_id\n",
       "Усть-Кут       63         87\n",
       "Новая Игирма   2084       27\n",
       "Юрты           605        21\n",
       "Ухтуй          6643       18\n",
       "Ока 2-я        5212       18\n",
       "                          ..\n",
       "Куряты         448         1\n",
       "Кумарейка      2382        1\n",
       "Култук         8537        1\n",
       "Куйтун         13824       1\n",
       "Ялга-Узур      4750        1\n",
       "Length: 705, dtype: int64"
      ]
     },
     "execution_count": 43,
     "metadata": {},
     "output_type": "execute_result"
    }
   ],
   "source": [
    "df_fires[['locality_name', 'fire_id']].value_counts()"
   ]
  },
  {
   "cell_type": "code",
   "execution_count": 34,
   "metadata": {},
   "outputs": [
    {
     "data": {
      "image/png": "[encoded data removed]",
      "text/plain": [
       "<Figure size 1152x504 with 1 Axes>"
      ]
     },
     "metadata": {
      "needs_background": "light"
     },
     "output_type": "display_data"
    }
   ],
   "source": [
    "plt.figure(figsize = (16, 7))\n",
    "plt.title('Топ-30 населенных пунктов по количеству одного и того же пожара (по fire_id)')\n",
    "plt.bar((df_fires.locality_name+' '+df_fires.fire_id.astype(str)).value_counts()[:30].keys(),\\\n",
    "        (df_fires.locality_name+' '+df_fires.fire_id.astype(str)).value_counts()[:30].values)\n",
    "plt.gcf().autofmt_xdate()"
   ]
  },
  {
   "cell_type": "code",
   "execution_count": 52,
   "metadata": {},
   "outputs": [
    {
     "data": {
      "text/plain": [
       "Ангарск          53\n",
       "Ленинский        21\n",
       "Октябрьский      16\n",
       "Правобережный    13\n",
       "Усть-Када        13\n",
       "                 ..\n",
       "Халюты            1\n",
       "Хайрюзовка        1\n",
       "Уховский          1\n",
       "Ут                1\n",
       "Ялга-Узур         1\n",
       "Name: locality_name, Length: 312, dtype: int64"
      ]
     },
     "execution_count": 52,
     "metadata": {},
     "output_type": "execute_result"
    }
   ],
   "source": [
    "temp_df = pd.DataFrame(df_fires[['locality_name', 'fire_id']].value_counts()).reset_index().locality_name.value_counts()\n",
    "temp_df"
   ]
  },
  {
   "cell_type": "code",
   "execution_count": 48,
   "metadata": {},
   "outputs": [
    {
     "data": {
      "image/png": "[encoded data removed]",
      "text/plain": [
       "<Figure size 1152x504 with 1 Axes>"
      ]
     },
     "metadata": {
      "needs_background": "light"
     },
     "output_type": "display_data"
    }
   ],
   "source": [
    "plt.figure(figsize = (16, 7))\n",
    "plt.title('Топ-30 населенных пунктов по количеству разных пожаров')\n",
    "plt.bar(temp_df[:30].keys(),\\\n",
    "        temp_df[:30].values)\n",
    "plt.gcf().autofmt_xdate()"
   ]
  },
  {
   "cell_type": "markdown",
   "metadata": {},
   "source": [
    "Гистограммы по удаленности пожаров от населенных пунктов"
   ]
  },
  {
   "cell_type": "code",
   "execution_count": 50,
   "metadata": {},
   "outputs": [
    {
     "data": {
      "text/plain": [
       "<matplotlib.axes._subplots.AxesSubplot at 0x1dc61d93670>"
      ]
     },
     "execution_count": 50,
     "metadata": {},
     "output_type": "execute_result"
    },
    {
     "data": {
      "image/png": "[encoded data removed]",
      "text/plain": [
       "<Figure size 432x288 with 1 Axes>"
      ]
     },
     "metadata": {
      "needs_background": "light"
     },
     "output_type": "display_data"
    }
   ],
   "source": [
    "df_fires.loc[df_fires.locality_name.isna(), 'distance_loc'].hist()"
   ]
  },
  {
   "cell_type": "code",
   "execution_count": 51,
   "metadata": {},
   "outputs": [
    {
     "data": {
      "text/plain": [
       "<matplotlib.axes._subplots.AxesSubplot at 0x1dc5bccc5e0>"
      ]
     },
     "execution_count": 51,
     "metadata": {},
     "output_type": "execute_result"
    },
    {
     "data": {
      "image/png": "[encoded data removed]",
      "text/plain": [
       "<Figure size 432x288 with 1 Axes>"
      ]
     },
     "metadata": {
      "needs_background": "light"
     },
     "output_type": "display_data"
    }
   ],
   "source": [
    "df_fires.loc[~df_fires.locality_name.isna(), 'distance_loc'].hist()"
   ]
  },
  {
   "cell_type": "code",
   "execution_count": 80,
   "metadata": {},
   "outputs": [
    {
     "name": "stdout",
     "output_type": "stream",
     "text": [
      "Среднее расстояние от пожаров до населенных пунктов, которые не пересекаются с ними: 174.65975439314073 \n",
      "Среднее расстояние от пожаров до населенных пунктов, которые находятся в них: 3.42361518866789\n"
     ]
    }
   ],
   "source": [
    "print('Среднее расстояние от пожаров до населенных пунктов, которые не пересекаются с ними: %s' % (df_fires.loc[df_fires.locality_name.isna(), 'HubDist'].mean()), \\\n",
    "    '\\nСреднее расстояние от пожаров до населенных пунктов, которые находятся в них: %s' % (df_fires.loc[~df_fires.locality_name.isna(), 'HubDist'].mean()))"
   ]
  }
 ],
 "metadata": {
  "kernelspec": {
   "display_name": "Python 3",
   "language": "python",
   "name": "python3"
  },
  "language_info": {
   "codemirror_mode": {
    "name": "ipython",
    "version": 3
   },
   "file_extension": ".py",
   "mimetype": "text/x-python",
   "name": "python",
   "nbconvert_exporter": "python",
   "pygments_lexer": "ipython3",
   "version": "3.8.3"
  }
 },
 "nbformat": 4,
 "nbformat_minor": 4
}
